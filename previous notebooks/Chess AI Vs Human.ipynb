{
 "cells": [
  {
   "cell_type": "code",
   "execution_count": null,
   "id": "ff5ffa3a",
   "metadata": {},
   "outputs": [],
   "source": [
    "import chess\n",
    "import chess.svg\n",
    "import chess.polyglot\n",
    "from IPython.display import SVG\n",
    "import chess.pgn\n",
    "import datetime\n",
    "import chess.engine\n",
    "\n",
    "pawntable = [\n",
    "    0, 0, 0, 0, 0, 0, 0, 0,\n",
    "    5, 10, 10, -20, -20, 10, 10, 5,\n",
    "    5, -5, -10, 0, 0, -10, -5, 5,\n",
    "    0, 0, 0, 20, 20, 0, 0, 0,\n",
    "    5, 5, 10, 25, 25, 10, 5, 5,\n",
    "    10, 10, 20, 30, 30, 20, 10, 10,\n",
    "    50, 50, 50, 50, 50, 50, 50, 50,\n",
    "    0, 0, 0, 0, 0, 0, 0, 0]\n",
    "\n",
    "knightstable = [\n",
    "    -50, -40, -30, -30, -30, -30, -40, -50,\n",
    "    -40, -20, 0, 5, 5, 0, -20, -40,\n",
    "    -30, 5, 10, 15, 15, 10, 5, -30,\n",
    "    -30, 0, 15, 20, 20, 15, 0, -30,\n",
    "    -30, 5, 15, 20, 20, 15, 5, -30,\n",
    "    -30, 0, 10, 15, 15, 10, 0, -30,\n",
    "    -40, -20, 0, 0, 0, 0, -20, -40,\n",
    "    -50, -40, -30, -30, -30, -30, -40, -50]\n",
    "\n",
    "bishopstable = [\n",
    "    -20, -10, -10, -10, -10, -10, -10, -20,\n",
    "    -10, 5, 0, 0, 0, 0, 5, -10,\n",
    "    -10, 10, 10, 10, 10, 10, 10, -10,\n",
    "    -10, 0, 10, 10, 10, 10, 0, -10,\n",
    "    -10, 5, 5, 10, 10, 5, 5, -10,\n",
    "    -10, 0, 5, 10, 10, 5, 0, -10,\n",
    "    -10, 0, 0, 0, 0, 0, 0, -10,\n",
    "    -20, -10, -10, -10, -10, -10, -10, -20]\n",
    "\n",
    "rookstable = [\n",
    "    0, 0, 0, 5, 5, 0, 0, 0,\n",
    "    -5, 0, 0, 0, 0, 0, 0, -5,\n",
    "    -5, 0, 0, 0, 0, 0, 0, -5,\n",
    "    -5, 0, 0, 0, 0, 0, 0, -5,\n",
    "    -5, 0, 0, 0, 0, 0, 0, -5,\n",
    "    -5, 0, 0, 0, 0, 0, 0, -5,\n",
    "    5, 10, 10, 10, 10, 10, 10, 5,\n",
    "    0, 0, 0, 0, 0, 0, 0, 0]\n",
    "\n",
    "queenstable = [\n",
    "    -20, -10, -10, -5, -5, -10, -10, -20,\n",
    "    -10, 0, 0, 0, 0, 0, 0, -10,\n",
    "    -10, 5, 5, 5, 5, 5, 0, -10,\n",
    "    0, 0, 5, 5, 5, 5, 0, -5,\n",
    "    -5, 0, 5, 5, 5, 5, 0, -5,\n",
    "    -10, 0, 5, 5, 5, 5, 0, -10,\n",
    "    -10, 0, 0, 0, 0, 0, 0, -10,\n",
    "    -20, -10, -10, -5, -5, -10, -10, -20]\n",
    "\n",
    "kingstable = [\n",
    "    20, 30, 10, 0, 0, 10, 30, 20,\n",
    "    20, 20, 0, 0, 0, 0, 20, 20,\n",
    "    -10, -20, -20, -20, -20, -20, -20, -10,\n",
    "    -20, -30, -30, -40, -40, -30, -30, -20,\n",
    "    -30, -40, -40, -50, -50, -40, -40, -30,\n",
    "    -30, -40, -40, -50, -50, -40, -40, -30,\n",
    "    -30, -40, -40, -50, -50, -40, -40, -30,\n",
    "    -30, -40, -40, -50, -50, -40, -40, -30]\n",
    "\n",
    "\n",
    "def evaluate_board():\n",
    "    if board.is_checkmate():\n",
    "        if board.turn:\n",
    "            return -9999\n",
    "        else:\n",
    "            return 9999\n",
    "    if board.is_stalemate():\n",
    "        return 0\n",
    "    if board.is_insufficient_material():\n",
    "        return 0\n",
    "\n",
    "    wp = len(board.pieces(chess.PAWN, chess.WHITE))\n",
    "    bp = len(board.pieces(chess.PAWN, chess.BLACK))\n",
    "    wn = len(board.pieces(chess.KNIGHT, chess.WHITE))\n",
    "    bn = len(board.pieces(chess.KNIGHT, chess.BLACK))\n",
    "    wb = len(board.pieces(chess.BISHOP, chess.WHITE))\n",
    "    bb = len(board.pieces(chess.BISHOP, chess.BLACK))\n",
    "    wr = len(board.pieces(chess.ROOK, chess.WHITE))\n",
    "    br = len(board.pieces(chess.ROOK, chess.BLACK))\n",
    "    wq = len(board.pieces(chess.QUEEN, chess.WHITE))\n",
    "    bq = len(board.pieces(chess.QUEEN, chess.BLACK))\n",
    "\n",
    "    material = 100 * (wp - bp) + 320 * (wn - bn) + 330 * (wb - bb) + 500 * (wr - br) + 900 * (wq - bq)\n",
    "\n",
    "    pawnsq = sum([pawntable[i] for i in board.pieces(chess.PAWN, chess.WHITE)])\n",
    "    pawnsq = pawnsq + sum([-pawntable[chess.square_mirror(i)]\n",
    "                           for i in board.pieces(chess.PAWN, chess.BLACK)])\n",
    "    knightsq = sum([knightstable[i] for i in board.pieces(chess.KNIGHT, chess.WHITE)])\n",
    "    knightsq = knightsq + sum([-knightstable[chess.square_mirror(i)]\n",
    "                               for i in board.pieces(chess.KNIGHT, chess.BLACK)])\n",
    "    bishopsq = sum([bishopstable[i] for i in board.pieces(chess.BISHOP, chess.WHITE)])\n",
    "    bishopsq = bishopsq + sum([-bishopstable[chess.square_mirror(i)]\n",
    "                               for i in board.pieces(chess.BISHOP, chess.BLACK)])\n",
    "    rooksq = sum([rookstable[i] for i in board.pieces(chess.ROOK, chess.WHITE)])\n",
    "    rooksq = rooksq + sum([-rookstable[chess.square_mirror(i)]\n",
    "                           for i in board.pieces(chess.ROOK, chess.BLACK)])\n",
    "    queensq = sum([queenstable[i] for i in board.pieces(chess.QUEEN, chess.WHITE)])\n",
    "    queensq = queensq + sum([-queenstable[chess.square_mirror(i)]\n",
    "                             for i in board.pieces(chess.QUEEN, chess.BLACK)])\n",
    "    kingsq = sum([kingstable[i] for i in board.pieces(chess.KING, chess.WHITE)])\n",
    "    kingsq = kingsq + sum([-kingstable[chess.square_mirror(i)]\n",
    "                           for i in board.pieces(chess.KING, chess.BLACK)])\n",
    "\n",
    "    eval = material + pawnsq + knightsq + bishopsq + rooksq + queensq + kingsq\n",
    "    if board.turn:\n",
    "        return eval\n",
    "    else:\n",
    "        return -eval\n",
    "\n",
    "\n",
    "def alphabeta(alpha, beta, depthleft):\n",
    "    bestscore = -9999\n",
    "    if (depthleft == 0):\n",
    "        return quiesce(alpha, beta)\n",
    "    for move in board.legal_moves:\n",
    "        board.push(move)\n",
    "        score = -alphabeta(-beta, -alpha, depthleft - 1)\n",
    "        board.pop()\n",
    "        if (score >= beta):\n",
    "            return score\n",
    "        if (score > bestscore):\n",
    "            bestscore = score\n",
    "        if (score > alpha):\n",
    "            alpha = score\n",
    "    return bestscore\n",
    "\n",
    "def quiesce( alpha, beta ):\n",
    "    stand_pat = evaluate_board()\n",
    "    if( stand_pat >= beta ):\n",
    "        return beta\n",
    "    if( alpha < stand_pat ):\n",
    "        alpha = stand_pat\n",
    "\n",
    "    for move in board.legal_moves:\n",
    "        if board.is_capture(move):\n",
    "            board.push(move)\n",
    "            score = -quiesce( -beta, -alpha )\n",
    "            board.pop()\n",
    "\n",
    "            if( score >= beta ):\n",
    "                return beta\n",
    "            if( score > alpha ):\n",
    "                alpha = score\n",
    "    return alpha\n",
    "\n",
    "def selectmove(depth):\n",
    "    try:\n",
    "        move = chess.polyglot.MemoryMappedReader(\"F:/PROJECTS/PARALLEL CHESS ENGINE/books/varied.bin\").weighted_choice(board).move()\n",
    "        movehistory.append(move)\n",
    "        return move\n",
    "    except:\n",
    "        bestMove = chess.Move.null()\n",
    "        bestValue = -99999\n",
    "        alpha = -100000\n",
    "        beta = 100000\n",
    "        for move in board.legal_moves:\n",
    "            board.push(move)\n",
    "            boardValue = -alphabeta(-beta, -alpha, depth-1)\n",
    "            if boardValue > bestValue:\n",
    "                bestValue = boardValue;\n",
    "                bestMove = move\n",
    "            if( boardValue > alpha ):\n",
    "                alpha = boardValue\n",
    "            board.pop()\n",
    "        movehistory.append(bestMove)\n",
    "        return bestMove\n",
    "    \n",
    "movehistory =[]\n",
    "board = chess.Board()\n",
    "SVG(chess.svg.board(board=board,size=400))"
   ]
  },
  {
   "cell_type": "code",
   "execution_count": null,
   "id": "55f5caae",
   "metadata": {},
   "outputs": [],
   "source": [
    "# Making AI move\n",
    "mov = selectmove(3)\n",
    "board.push(mov)\n",
    "SVG(chess.svg.board(board=board,size=400))"
   ]
  },
  {
   "cell_type": "code",
   "execution_count": null,
   "id": "0412bda6",
   "metadata": {},
   "outputs": [],
   "source": [
    "# Human move\n",
    "board.push_san(\"d5\")\n",
    "SVG(chess.svg.board(board=board,size=400))"
   ]
  },
  {
   "cell_type": "code",
   "execution_count": null,
   "id": "e7377053",
   "metadata": {},
   "outputs": [],
   "source": [
    "# Making AI move\n",
    "mov = selectmove(3)\n",
    "board.push(mov)\n",
    "SVG(chess.svg.board(board=board,size=400))"
   ]
  },
  {
   "cell_type": "code",
   "execution_count": null,
   "id": "473c3e7a",
   "metadata": {},
   "outputs": [],
   "source": [
    "# Human move\n",
    "board.push_san(\"d4\")\n",
    "SVG(chess.svg.board(board=board,size=400))"
   ]
  },
  {
   "cell_type": "code",
   "execution_count": null,
   "id": "475c1908",
   "metadata": {},
   "outputs": [],
   "source": [
    "# Making AI move\n",
    "mov = selectmove(3)\n",
    "board.push(mov)\n",
    "SVG(chess.svg.board(board=board,size=400))"
   ]
  },
  {
   "cell_type": "code",
   "execution_count": null,
   "id": "a00096a0",
   "metadata": {},
   "outputs": [],
   "source": [
    "# Human move\n",
    "board.push_san(\"e5\")\n",
    "SVG(chess.svg.board(board=board,size=400))"
   ]
  },
  {
   "cell_type": "code",
   "execution_count": null,
   "id": "84c5406c",
   "metadata": {},
   "outputs": [],
   "source": [
    "# Making AI move\n",
    "mov = selectmove(3)\n",
    "board.push(mov)\n",
    "SVG(chess.svg.board(board=board,size=400))"
   ]
  },
  {
   "cell_type": "code",
   "execution_count": null,
   "id": "f29101ed",
   "metadata": {},
   "outputs": [],
   "source": [
    "# Human move\n",
    "board.push_san(\"f6\")\n",
    "SVG(chess.svg.board(board=board,size=400))"
   ]
  },
  {
   "cell_type": "code",
   "execution_count": null,
   "id": "22e7118b",
   "metadata": {},
   "outputs": [],
   "source": [
    "# Making AI move\n",
    "mov = selectmove(3)\n",
    "board.push(mov)\n",
    "SVG(chess.svg.board(board=board,size=400))"
   ]
  },
  {
   "cell_type": "code",
   "execution_count": null,
   "id": "19098e98",
   "metadata": {},
   "outputs": [],
   "source": [
    "# Human move\n",
    "board.push_san(\"d3\")\n",
    "SVG(chess.svg.board(board=board,size=400))"
   ]
  },
  {
   "cell_type": "code",
   "execution_count": null,
   "id": "bcd39420",
   "metadata": {},
   "outputs": [],
   "source": [
    "# Making AI move\n",
    "mov = selectmove(3)\n",
    "board.push(mov)\n",
    "SVG(chess.svg.board(board=board,size=400))"
   ]
  },
  {
   "cell_type": "code",
   "execution_count": null,
   "id": "00115c3b",
   "metadata": {},
   "outputs": [],
   "source": [
    "# Human move\n",
    "board.push_san(\"c6\")\n",
    "SVG(chess.svg.board(board=board,size=400))"
   ]
  },
  {
   "cell_type": "code",
   "execution_count": null,
   "id": "68e8c856",
   "metadata": {},
   "outputs": [],
   "source": [
    "# Making AI move\n",
    "mov = selectmove(3)\n",
    "board.push(mov)\n",
    "SVG(chess.svg.board(board=board,size=400))"
   ]
  },
  {
   "cell_type": "code",
   "execution_count": null,
   "id": "0da8a713",
   "metadata": {},
   "outputs": [],
   "source": [
    "# Human move\n",
    "board.push_san(\"Bc5\")\n",
    "SVG(chess.svg.board(board=board,size=400))"
   ]
  },
  {
   "cell_type": "code",
   "execution_count": null,
   "id": "fab99cf5",
   "metadata": {},
   "outputs": [],
   "source": [
    "# Making AI move\n",
    "mov = selectmove(3)\n",
    "board.push(mov)\n",
    "SVG(chess.svg.board(board=board,size=400))"
   ]
  },
  {
   "cell_type": "code",
   "execution_count": null,
   "id": "78d9d3c1",
   "metadata": {},
   "outputs": [],
   "source": [
    "# Human move\n",
    "board.push_san(\"Ne7\")\n",
    "SVG(chess.svg.board(board=board,size=400))"
   ]
  },
  {
   "cell_type": "code",
   "execution_count": null,
   "id": "f003f71e",
   "metadata": {},
   "outputs": [],
   "source": [
    "# Making AI move\n",
    "mov = selectmove(3)\n",
    "board.push(mov)\n",
    "SVG(chess.svg.board(board=board,size=400))"
   ]
  },
  {
   "cell_type": "code",
   "execution_count": null,
   "id": "90bf8f9f",
   "metadata": {},
   "outputs": [],
   "source": [
    "# Human move\n",
    "board.push_san(\"Na6\")\n",
    "SVG(chess.svg.board(board=board,size=400))"
   ]
  },
  {
   "cell_type": "code",
   "execution_count": null,
   "id": "91b07a7b",
   "metadata": {},
   "outputs": [],
   "source": [
    "# Making AI move\n",
    "mov = selectmove(3)\n",
    "board.push(mov)\n",
    "SVG(chess.svg.board(board=board,size=400))"
   ]
  },
  {
   "cell_type": "code",
   "execution_count": null,
   "id": "f2c94bc5",
   "metadata": {},
   "outputs": [],
   "source": [
    "# Human move\n",
    "board.push_san(\"Kd8\")\n",
    "SVG(chess.svg.board(board=board,size=400))"
   ]
  },
  {
   "cell_type": "code",
   "execution_count": null,
   "id": "49019b61",
   "metadata": {},
   "outputs": [],
   "source": [
    "# Making AI move\n",
    "mov = selectmove(3)\n",
    "board.push(mov)\n",
    "SVG(chess.svg.board(board=board,size=400))"
   ]
  },
  {
   "cell_type": "code",
   "execution_count": null,
   "id": "a72ab9a0",
   "metadata": {},
   "outputs": [],
   "source": [
    "# Human move\n",
    "board.push_san(\"Bb4\")\n",
    "SVG(chess.svg.board(board=board,size=400))"
   ]
  },
  {
   "cell_type": "code",
   "execution_count": null,
   "id": "67c7b693",
   "metadata": {},
   "outputs": [],
   "source": [
    "# Making AI move\n",
    "mov = selectmove(3)\n",
    "board.push(mov)\n",
    "SVG(chess.svg.board(board=board,size=400))"
   ]
  },
  {
   "cell_type": "code",
   "execution_count": null,
   "id": "f71c7251",
   "metadata": {},
   "outputs": [],
   "source": [
    "# Human move\n",
    "board.push_san(\"Bd6\")\n",
    "SVG(chess.svg.board(board=board,size=400))"
   ]
  },
  {
   "cell_type": "code",
   "execution_count": null,
   "id": "93ab9d48",
   "metadata": {},
   "outputs": [],
   "source": [
    "# Making AI move\n",
    "mov = selectmove(3)\n",
    "board.push(mov)\n",
    "SVG(chess.svg.board(board=board,size=400))"
   ]
  },
  {
   "cell_type": "code",
   "execution_count": null,
   "id": "b85888f8",
   "metadata": {},
   "outputs": [],
   "source": [
    "# Human move\n",
    "board.push_san(\"Bg4\")\n",
    "SVG(chess.svg.board(board=board,size=400))"
   ]
  },
  {
   "cell_type": "code",
   "execution_count": null,
   "id": "e277dc4e",
   "metadata": {},
   "outputs": [],
   "source": [
    "# Making AI move\n",
    "mov = selectmove(3)\n",
    "board.push(mov)\n",
    "SVG(chess.svg.board(board=board,size=400))"
   ]
  },
  {
   "cell_type": "code",
   "execution_count": null,
   "id": "a0f7c751",
   "metadata": {},
   "outputs": [],
   "source": [
    "# Human move\n",
    "board.push_san(\"Bf3\")\n",
    "SVG(chess.svg.board(board=board,size=400))"
   ]
  },
  {
   "cell_type": "code",
   "execution_count": null,
   "id": "3b91a961",
   "metadata": {},
   "outputs": [],
   "source": [
    "# Making AI move\n",
    "mov = selectmove(3)\n",
    "board.push(mov)\n",
    "SVG(chess.svg.board(board=board,size=400))"
   ]
  },
  {
   "cell_type": "code",
   "execution_count": null,
   "id": "2354772a",
   "metadata": {},
   "outputs": [],
   "source": [
    "# Human move\n",
    "board.push_san(\"g5\")\n",
    "SVG(chess.svg.board(board=board,size=400))"
   ]
  },
  {
   "cell_type": "code",
   "execution_count": null,
   "id": "225f3c7e",
   "metadata": {},
   "outputs": [],
   "source": [
    "# Making AI move\n",
    "mov = selectmove(3)\n",
    "board.push(mov)\n",
    "SVG(chess.svg.board(board=board,size=400))"
   ]
  },
  {
   "cell_type": "code",
   "execution_count": null,
   "id": "0e243b74",
   "metadata": {},
   "outputs": [],
   "source": [
    "# Human move\n",
    "board.push_san(\"Rf8\")\n",
    "SVG(chess.svg.board(board=board,size=400))"
   ]
  },
  {
   "cell_type": "code",
   "execution_count": null,
   "id": "9df5e6d2",
   "metadata": {},
   "outputs": [],
   "source": [
    "# Making AI move\n",
    "mov = selectmove(3)\n",
    "board.push(mov)\n",
    "SVG(chess.svg.board(board=board,size=400))"
   ]
  },
  {
   "cell_type": "code",
   "execution_count": null,
   "id": "fbd8e254",
   "metadata": {},
   "outputs": [],
   "source": [
    "# Human move\n",
    "board.push_san(\"Kc7\")\n",
    "SVG(chess.svg.board(board=board,size=400))"
   ]
  },
  {
   "cell_type": "code",
   "execution_count": null,
   "id": "bdf1cf96",
   "metadata": {},
   "outputs": [],
   "source": [
    "# Making AI move\n",
    "mov = selectmove(3)\n",
    "board.push(mov)\n",
    "SVG(chess.svg.board(board=board,size=400))"
   ]
  },
  {
   "cell_type": "code",
   "execution_count": null,
   "id": "dc3c50bf",
   "metadata": {},
   "outputs": [],
   "source": [
    "# Human move\n",
    "board.push_san(\"Kb6\")\n",
    "SVG(chess.svg.board(board=board,size=400))"
   ]
  },
  {
   "cell_type": "code",
   "execution_count": null,
   "id": "08650a8b",
   "metadata": {},
   "outputs": [],
   "source": [
    "# Making AI move\n",
    "mov = selectmove(3)\n",
    "board.push(mov)\n",
    "SVG(chess.svg.board(board=board,size=400))"
   ]
  },
  {
   "cell_type": "code",
   "execution_count": null,
   "id": "ff9082bf",
   "metadata": {},
   "outputs": [],
   "source": [
    "# Human move\n",
    "board.push_san(\"Bc7\")\n",
    "SVG(chess.svg.board(board=board,size=400))"
   ]
  },
  {
   "cell_type": "code",
   "execution_count": null,
   "id": "b6372623",
   "metadata": {},
   "outputs": [],
   "source": [
    "# Making AI move\n",
    "mov = selectmove(3)\n",
    "board.push(mov)\n",
    "SVG(chess.svg.board(board=board,size=400))"
   ]
  },
  {
   "cell_type": "code",
   "execution_count": null,
   "id": "f76ba810",
   "metadata": {},
   "outputs": [],
   "source": [
    "# Human move\n",
    "board.push_san(\"Ka5\")\n",
    "SVG(chess.svg.board(board=board,size=400))"
   ]
  },
  {
   "cell_type": "code",
   "execution_count": null,
   "id": "6a03dc78",
   "metadata": {},
   "outputs": [],
   "source": [
    "# Making AI move\n",
    "mov = selectmove(3)\n",
    "board.push(mov)\n",
    "SVG(chess.svg.board(board=board,size=400))"
   ]
  },
  {
   "cell_type": "code",
   "execution_count": null,
   "id": "27b5c2d4",
   "metadata": {},
   "outputs": [],
   "source": [
    "# Human move\n",
    "board.push_san(\"b5\")\n",
    "SVG(chess.svg.board(board=board,size=400))"
   ]
  },
  {
   "cell_type": "code",
   "execution_count": null,
   "id": "06982802",
   "metadata": {},
   "outputs": [],
   "source": [
    "# Making AI move\n",
    "mov = selectmove(3)\n",
    "board.push(mov)\n",
    "SVG(chess.svg.board(board=board,size=400))"
   ]
  },
  {
   "cell_type": "code",
   "execution_count": null,
   "id": "658af5d6",
   "metadata": {},
   "outputs": [],
   "source": [
    "# Human move\n",
    "board.push_san(\"Bb6\")\n",
    "SVG(chess.svg.board(board=board,size=400))"
   ]
  },
  {
   "cell_type": "code",
   "execution_count": null,
   "id": "89a8c663",
   "metadata": {},
   "outputs": [],
   "source": [
    "# Making AI move\n",
    "mov = selectmove(3)\n",
    "board.push(mov)\n",
    "SVG(chess.svg.board(board=board,size=400))"
   ]
  },
  {
   "cell_type": "code",
   "execution_count": null,
   "id": "830faea8",
   "metadata": {},
   "outputs": [],
   "source": [
    "# Human move\n",
    "board.push_san(\"b4\")\n",
    "SVG(chess.svg.board(board=board,size=400))"
   ]
  },
  {
   "cell_type": "code",
   "execution_count": null,
   "id": "b018e673",
   "metadata": {},
   "outputs": [],
   "source": [
    "# Making AI move\n",
    "mov = selectmove(3)\n",
    "board.push(mov)\n",
    "SVG(chess.svg.board(board=board,size=400))"
   ]
  },
  {
   "cell_type": "code",
   "execution_count": null,
   "id": "df8a5889",
   "metadata": {},
   "outputs": [],
   "source": [
    "# Human move\n",
    "board.push_san(\"Kb5\")\n",
    "SVG(chess.svg.board(board=board,size=400))"
   ]
  },
  {
   "cell_type": "code",
   "execution_count": null,
   "id": "b9809578",
   "metadata": {},
   "outputs": [],
   "source": [
    "# Making Ai move\n",
    "mov = selectmove(3)\n",
    "board.push(mov)\n",
    "SVG(chess.svg.board(board=board,size=400))"
   ]
  }
 ],
 "metadata": {
  "kernelspec": {
   "display_name": "Python 3 (ipykernel)",
   "language": "python",
   "name": "python3"
  },
  "language_info": {
   "codemirror_mode": {
    "name": "ipython",
    "version": 3
   },
   "file_extension": ".py",
   "mimetype": "text/x-python",
   "name": "python",
   "nbconvert_exporter": "python",
   "pygments_lexer": "ipython3",
   "version": "3.10.0"
  }
 },
 "nbformat": 4,
 "nbformat_minor": 5
}
